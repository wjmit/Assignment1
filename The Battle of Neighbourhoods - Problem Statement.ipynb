{
 "cells": [
  {
   "cell_type": "markdown",
   "metadata": {},
   "source": [
    "## Title\n",
    "<b><i> Investing in Speciality Coffee cafes in Singapore </i></b>"
   ]
  },
  {
   "cell_type": "markdown",
   "metadata": {},
   "source": [
    "## Introduction & Business Problem Description"
   ]
  },
  {
   "cell_type": "markdown",
   "metadata": {},
   "source": [
    "In the city of Singapore, one of the world’s wealthiest countries, interest and demand of speciality coffee has been on the rise.  Local consumer taste has been evolving beyond that of well-known franchises such as Starbucks and The Coffee Bean in search for unique tastes.  Such coffee is typically found in speciality and hipster cafés which have only begun to emerge in recent years.\n",
    "\n",
    "<b><i> Objective: </i></b>\n",
    "The aim of this project is to validate and support an incoming foreign investor planning to setup 4 speciality coffee cafes to target the local population. \n"
   ]
  },
  {
   "cell_type": "markdown",
   "metadata": {},
   "source": [
    "## Data"
   ]
  },
  {
   "cell_type": "markdown",
   "metadata": {},
   "source": [
    "<b> 1) Global Population Density </b>\n",
    "- Rationale: To validate the investment decision on targeting countries with high population  densities; Implying higher customer reach per café\n",
    "- Data: Population density per country\n",
    "- Source: World Bank\n",
    " "
   ]
  },
  {
   "cell_type": "markdown",
   "metadata": {},
   "source": [
    "<b> 2) Gross Domestic Product (GDP) per Capita </b>\n",
    "- Rationale: To validate the investment decision on targeting markets with high income and hence spending/buying power \n",
    "- Data: GDP density per country\n",
    "- Source: World Bank\n"
   ]
  },
  {
   "cell_type": "markdown",
   "metadata": {},
   "source": [
    "<b> 3) Geo-Location of subways </b>\n",
    "- Rationale:  The Singapore government has been pushing the local population to turn to public transportation over car-ownership in the drive towards sustainability and to avoid city congestion which are commonplace in many developed countries.  Therefore, subway locations can be assumed to see a lot of human traffic\n",
    "- Data: Geo-location of subways in Singapore\n",
    "- Source: Various sources\n",
    "\n"
   ]
  },
  {
   "cell_type": "markdown",
   "metadata": {},
   "source": [
    "<b> 4) Population by local planning zone (towns) </b>\n",
    "- Rationale: To identify towns with the largest addressable customer populations\n",
    "- Data: Population of Singapore Residents by town\n",
    "- Source: Singstats\n",
    "\n",
    "\n"
   ]
  },
  {
   "cell_type": "markdown",
   "metadata": {},
   "source": [
    "<b> 5) Foursquare location data </b>\n",
    "- Rationale: To understand the number of eateries and potential competition (i.e. other cafes) in proximity of a subway, towards supporting the decision on where to establish the café\n",
    "- Data: Place of interests by geolocation\n",
    "\n",
    "\n",
    "\n"
   ]
  },
  {
   "cell_type": "code",
   "execution_count": null,
   "metadata": {},
   "outputs": [],
   "source": []
  },
  {
   "cell_type": "code",
   "execution_count": null,
   "metadata": {},
   "outputs": [],
   "source": []
  }
 ],
 "metadata": {
  "kernelspec": {
   "display_name": "Python 3",
   "language": "python",
   "name": "python3"
  },
  "language_info": {
   "codemirror_mode": {
    "name": "ipython",
    "version": 3
   },
   "file_extension": ".py",
   "mimetype": "text/x-python",
   "name": "python",
   "nbconvert_exporter": "python",
   "pygments_lexer": "ipython3",
   "version": "3.6.6"
  }
 },
 "nbformat": 4,
 "nbformat_minor": 2
}
