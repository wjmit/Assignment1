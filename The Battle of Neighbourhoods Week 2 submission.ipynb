{
 "cells": [
  {
   "cell_type": "markdown",
   "metadata": {},
   "source": [
    "# INTRODUCTION"
   ]
  },
  {
   "cell_type": "markdown",
   "metadata": {},
   "source": [
    "### Title\n",
    "Investing in Speciality Coffee cafes in Singapore"
   ]
  },
  {
   "cell_type": "markdown",
   "metadata": {},
   "source": [
    "###  Business Problem Description"
   ]
  },
  {
   "cell_type": "markdown",
   "metadata": {},
   "source": [
    "In the city of Singapore, one of the world’s wealthiest countries, interest and demand of speciality coffee has been on the rise.  Local consumer taste has been evolving beyond that of well-known franchises such as Starbucks and The Coffee Bean in search for unique tastes.  Such coffee is typically found in speciality and hipster cafés which have only begun to emerge in recent years.\n",
    "\n",
    "<b><i> Objective: </i></b>\n",
    "The aim of this project is to validate and support an incoming foreign investor planning to setup 3 speciality coffee cafes in to target the local population.\n",
    "\n",
    "- Target Region: South East Asia\n"
   ]
  },
  {
   "cell_type": "markdown",
   "metadata": {},
   "source": [
    "### Target Audience"
   ]
  },
  {
   "cell_type": "markdown",
   "metadata": {},
   "source": [
    "Foreign investors looking to invest in the cafes"
   ]
  },
  {
   "cell_type": "markdown",
   "metadata": {},
   "source": [
    "-----------"
   ]
  },
  {
   "cell_type": "markdown",
   "metadata": {},
   "source": [
    "# DATA & DESCRIPTION"
   ]
  },
  {
   "cell_type": "markdown",
   "metadata": {},
   "source": [
    "<b> 1) Global Population Density </b>\n",
    "- Rationale: To validate the investment decision on targeting countries with high population  densities; Implying higher customer reach per café\n",
    "- Data: Population density per country\n",
    "- Source: World Bank\n",
    " "
   ]
  },
  {
   "cell_type": "markdown",
   "metadata": {},
   "source": [
    "<b> 2) Gross Domestic Product (GDP) per Capita </b>\n",
    "- Rationale: To validate the investment decision on targeting markets with high income and hence spending/buying power \n",
    "- Data: GDP density per country\n",
    "- Source: World Bank\n"
   ]
  },
  {
   "cell_type": "markdown",
   "metadata": {},
   "source": [
    "<b> 3) Geo-Location of subways </b>\n",
    "- Rationale:  The Singapore government has been pushing the local population to turn to public transportation over car-ownership in the drive towards sustainability and to avoid city congestion which are commonplace in many developed countries.  Therefore, subway locations can be assumed to see a lot of human traffic\n",
    "- Data: Geo-location of subways in Singapore\n",
    "- Source: Various sources\n",
    "\n"
   ]
  },
  {
   "cell_type": "markdown",
   "metadata": {},
   "source": [
    "<b> 4) Population by local planning zone (towns) </b>\n",
    "- Rationale: To identify towns with the largest addressable customer populations\n",
    "- Data: Population of Singapore Residents by town\n",
    "- Source: Singstats\n",
    "\n",
    "\n"
   ]
  },
  {
   "cell_type": "markdown",
   "metadata": {},
   "source": [
    "<b> 5) Foursquare location data </b>\n",
    "- Rationale: To understand the number of eateries and potential competition (i.e. other cafes) in proximity of a subway, towards supporting the decision on where to establish the café\n",
    "- Data: Place of interests by geolocation\n",
    "\n",
    "\n",
    "\n"
   ]
  },
  {
   "cell_type": "markdown",
   "metadata": {},
   "source": [
    " ------------"
   ]
  },
  {
   "cell_type": "markdown",
   "metadata": {},
   "source": [
    "# METHODOLOGY"
   ]
  },
  {
   "cell_type": "markdown",
   "metadata": {},
   "source": [
    "- Validate that Singapore is the ideal location in South East Asia to invest into setting up the cafe.  This is to be done by confirming that it's location population has the highest buying power and addressable customer pool (i.e. highest GDP per capita, and highest population density)\n",
    "- Identify the locations of its subway stations as a target area for setting up the cafe.  Rationale is that the Singapore government is encouraging its population to go car-free and use public transport.  As such, subway stations are likely to have high human traffic volumes\n",
    "- Next is to identify the various towns within Singapore and prioritize them by population (i.e. implying largest customer pool)\n",
    "- Each town might have multiple subway stations, therefore using FourSquare venue data would enable the selection of the preferred stations - defined as having the least cafes and having the most other type of food and beverage stores which implies its attraction to locals as a food hub\n"
   ]
  },
  {
   "cell_type": "markdown",
   "metadata": {},
   "source": [
    "-----"
   ]
  },
  {
   "cell_type": "markdown",
   "metadata": {},
   "source": [
    "# RESULTS"
   ]
  },
  {
   "cell_type": "code",
   "execution_count": 1,
   "metadata": {},
   "outputs": [],
   "source": [
    "import pandas as pd # library for data analsysis\n",
    "import numpy as np # library to handle data in a vectorized manner\n",
    "from sklearn.cluster import KMeans\n",
    "%matplotlib inline\n",
    "import matplotlib as plt\n",
    "from matplotlib import pyplot\n",
    "import matplotlib.cm as cm\n",
    "import matplotlib.colors as colors\n",
    "import requests # library to handle requests"
   ]
  },
  {
   "cell_type": "code",
   "execution_count": 2,
   "metadata": {},
   "outputs": [
    {
     "name": "stdout",
     "output_type": "stream",
     "text": [
      "Solving environment: done\n",
      "\n",
      "# All requested packages already installed.\n",
      "\n"
     ]
    }
   ],
   "source": [
    "!conda install -c conda-forge geopy --yes # uncomment this line if you haven't completed the Foursquare API lab\n",
    "from geopy.geocoders import Nominatim # convert an address into latitude and longitude values"
   ]
  },
  {
   "cell_type": "code",
   "execution_count": 3,
   "metadata": {},
   "outputs": [
    {
     "name": "stdout",
     "output_type": "stream",
     "text": [
      "Solving environment: done\n",
      "\n",
      "# All requested packages already installed.\n",
      "\n"
     ]
    }
   ],
   "source": [
    "!conda install -c conda-forge folium=0.5.0 --yes # uncomment this line if you haven't completed the Foursquare API lab\n",
    "import folium # map rendering library"
   ]
  },
  {
   "cell_type": "code",
   "execution_count": 4,
   "metadata": {},
   "outputs": [
    {
     "name": "stdout",
     "output_type": "stream",
     "text": [
      "Your credentails:\n",
      "CLIENT_ID: DBNBYB4BGFBZXNLWMBQHNYCWPSAYEEUCK0X4SDHZW5IBULAE\n",
      "CLIENT_SECRET:G3KOPOG0EDKGLF03TY1PGOUMUYE3LV5Q0KCFJ2JQOZPNFPFS\n"
     ]
    }
   ],
   "source": [
    "# FOURSQUARE ID\n",
    "CLIENT_ID = 'DBNBYB4BGFBZXNLWMBQHNYCWPSAYEEUCK0X4SDHZW5IBULAE' # your Foursquare ID\n",
    "CLIENT_SECRET = 'G3KOPOG0EDKGLF03TY1PGOUMUYE3LV5Q0KCFJ2JQOZPNFPFS' # your Foursquare Secret\n",
    "VERSION = '20180605' # Foursquare API version\n",
    "\n",
    "print('Your credentails:')\n",
    "print('CLIENT_ID: ' + CLIENT_ID)\n",
    "print('CLIENT_SECRET:' + CLIENT_SECRET)"
   ]
  },
  {
   "cell_type": "code",
   "execution_count": 5,
   "metadata": {},
   "outputs": [
    {
     "name": "stderr",
     "output_type": "stream",
     "text": [
      "/home/jupyterlab/conda/lib/python3.6/site-packages/ipykernel_launcher.py:4: DeprecationWarning: Using Nominatim with the default \"geopy/1.18.1\" `user_agent` is strongly discouraged, as it violates Nominatim's ToS https://operations.osmfoundation.org/policies/nominatim/ and may possibly cause 403 and 429 HTTP errors. Please specify a custom `user_agent` with `Nominatim(user_agent=\"my-application\")` or by overriding the default `user_agent`: `geopy.geocoders.options.default_user_agent = \"my-application\"`. In geopy 2.0 this will become an exception.\n",
      "  after removing the cwd from sys.path.\n"
     ]
    },
    {
     "name": "stdout",
     "output_type": "stream",
     "text": [
      "The geograpical coordinate of Singapore are 1.2904753, 103.8520359.\n"
     ]
    }
   ],
   "source": [
    "# FINDING LAT LONG FOR Singapore\n",
    "\n",
    "address = 'Singapore'\n",
    "geolocator = Nominatim()\n",
    "location = geolocator.geocode(address)\n",
    "latitude = location.latitude\n",
    "longitude = location.longitude\n",
    "print('The geograpical coordinate of Singapore are {}, {}.'.format(latitude, longitude))"
   ]
  },
  {
   "cell_type": "markdown",
   "metadata": {},
   "source": [
    "#### Extract data sets"
   ]
  },
  {
   "cell_type": "code",
   "execution_count": 6,
   "metadata": {},
   "outputs": [],
   "source": [
    "#IMPORT GDP PER CAPITA BY COUNTRY DATA\n",
    "GDPperCapita = pd.read_csv(\"Capstone Data/GDPperCapitaByCountry.csv\")\n",
    "\n",
    "#IMPORT POPULATION DENSITY BY COUNTRY DATA\n",
    "PopDensity = pd.read_csv(\"Capstone Data/PopulationDensityWorldBank.csv\")\n",
    "\n",
    "#IMPORT POPULATION  BY TOWN IN SINGAPORE\n",
    "TownPop = pd.read_csv(\"Capstone Data/PopulationByPlanningZong.csv\")\n",
    "\n",
    "# IMPORT SUBWAY LOCATIONS IN SINGAPORE - East/West Line\n",
    "EWSubwayLoc = pd.read_csv(\"Capstone Data/MRTLocations.csv\")"
   ]
  },
  {
   "cell_type": "code",
   "execution_count": 7,
   "metadata": {},
   "outputs": [],
   "source": [
    "GDPperCapita.rename(columns = {\"2017\":\"GDPperCapita\"}, inplace = True)\n",
    "GDPperCapita.rename(columns = {\"Country Name\":\"Country\"}, inplace = True)\n",
    "PopDensity.rename(columns = {\"2017\":\"PopulationDensity\"}, inplace = True)\n",
    "PopDensity.rename(columns = {\"Country Name\":\"Country\"}, inplace = True)"
   ]
  },
  {
   "cell_type": "code",
   "execution_count": 8,
   "metadata": {},
   "outputs": [],
   "source": [
    "GDPperCapita.sort_values(['GDPperCapita'], ascending=False, inplace=True)\n",
    "GDPperCapita.reset_index(drop=True, inplace=True)\n",
    "Top20_GDPperCapita = GDPperCapita.head(20)\n",
    "\n",
    "PopDensity.sort_values(['PopulationDensity'], ascending=False, inplace=True)\n",
    "PopDensity.reset_index(drop=True, inplace=True)\n",
    "Top20_PopDensity = PopDensity.head(20)"
   ]
  },
  {
   "cell_type": "markdown",
   "metadata": {},
   "source": [
    "### >>> Plot top 20 countries by GDP per Capita (Data source: World Bank)"
   ]
  },
  {
   "cell_type": "code",
   "execution_count": 9,
   "metadata": {},
   "outputs": [
    {
     "data": {
      "text/plain": [
       "<matplotlib.axes._subplots.AxesSubplot at 0x7fdb18eee940>"
      ]
     },
     "execution_count": 9,
     "metadata": {},
     "output_type": "execute_result"
    },
    {
     "data": {
      "image/png": "[encoded data removed]",
      "text/plain": [
       "<Figure size 936x288 with 1 Axes>"
      ]
     },
     "metadata": {
      "needs_background": "light"
     },
     "output_type": "display_data"
    }
   ],
   "source": [
    "Top20_GDPperCapita.plot(kind='bar', x='Country', y='GDPperCapita', color='gray', figsize=(13, 4), rot=90) # rotate the bars by 90 degrees"
   ]
  },
  {
   "cell_type": "markdown",
   "metadata": {},
   "source": [
    "### >>> Plot Top 20 countries by Population Density (Data Source: World Bank)"
   ]
  },
  {
   "cell_type": "code",
   "execution_count": 10,
   "metadata": {},
   "outputs": [
    {
     "data": {
      "text/plain": [
       "<matplotlib.axes._subplots.AxesSubplot at 0x7fdb18bbaf28>"
      ]
     },
     "execution_count": 10,
     "metadata": {},
     "output_type": "execute_result"
    },
    {
     "data": {
      "image/png": "[encoded data removed]",
      "text/plain": [
       "<Figure size 936x288 with 1 Axes>"
      ]
     },
     "metadata": {
      "needs_background": "light"
     },
     "output_type": "display_data"
    }
   ],
   "source": [
    "Top20_PopDensity.plot(kind='bar', x='Country', y='PopulationDensity', color='blue', figsize=(13, 4), rot=90) # rotate the bars by 90 degrees"
   ]
  },
  {
   "cell_type": "markdown",
   "metadata": {},
   "source": [
    "----------"
   ]
  },
  {
   "cell_type": "markdown",
   "metadata": {},
   "source": [
    "### >>> Location of SINGAPORE on the Map"
   ]
  },
  {
   "cell_type": "code",
   "execution_count": 143,
   "metadata": {},
   "outputs": [
    {
     "data": {
      "text/html": [
       "<div style=\"width:100%;\"><div style=\"position:relative;width:100%;height:0;padding-bottom:60%;\"><iframe src=\"data:text/html;charset=utf-8;base64,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\" style=\"position:absolute;width:100%;height:100%;left:0;top:0;border:none !important;\" allowfullscreen webkitallowfullscreen mozallowfullscreen></iframe></div></div>"
      ],
      "text/plain": [
       "<folium.folium.Map at 0x7fdb12849da0>"
      ]
     },
     "execution_count": 143,
     "metadata": {},
     "output_type": "execute_result"
    }
   ],
   "source": [
    "# create map\n",
    "map_clusters = folium.Map(location=[latitude, longitude], zoom_start=4)\n",
    "\n",
    "folium.CircleMarker(\n",
    "        [latitude, longitude],\n",
    "        radius=5,\n",
    "        popup=\"Singapore\",\n",
    "        color='Red').add_to(map_clusters)\n",
    "map_clusters"
   ]
  },
  {
   "cell_type": "markdown",
   "metadata": {},
   "source": [
    "-----"
   ]
  },
  {
   "cell_type": "markdown",
   "metadata": {},
   "source": [
    "### >>> Strategy Approach:  Locate speciality coffee place near the subway (i.e. Mass Rapid Transit network) \n",
    "- Focused on the East/West and  North/South line"
   ]
  },
  {
   "cell_type": "code",
   "execution_count": 12,
   "metadata": {},
   "outputs": [],
   "source": [
    "EWSubwayLoc_Green = EWSubwayLoc.query('LineName == \"Green\"')\n",
    "EWSubwayLoc_Red = EWSubwayLoc.query('LineName == \"Red\"')"
   ]
  },
  {
   "cell_type": "code",
   "execution_count": 120,
   "metadata": {},
   "outputs": [
    {
     "name": "stdout",
     "output_type": "stream",
     "text": [
      "Number of stations:\n",
      "East/West line:  33\n",
      "North/South line:  23\n"
     ]
    },
    {
     "data": {
      "text/html": [
       "<div style=\"width:100%;\"><div style=\"position:relative;width:100%;height:0;padding-bottom:60%;\"><iframe src=\"data:text/html;charset=utf-8;base64,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\" style=\"position:absolute;width:100%;height:100%;left:0;top:0;border:none !important;\" allowfullscreen webkitallowfullscreen mozallowfullscreen></iframe></div></div>"
      ],
      "text/plain": [
       "<folium.folium.Map at 0x7fdb129ae2b0>"
      ]
     },
     "execution_count": 120,
     "metadata": {},
     "output_type": "execute_result"
    }
   ],
   "source": [
    "print(\"Number of stations:\")\n",
    "print(\"East/West line: \", EWSubwayLoc_Green[\"LineName\"].count())\n",
    "print(\"North/South line: \", EWSubwayLoc_Red[\"LineName\"].count())\n",
    "\n",
    "# create map\n",
    "map_clusters = folium.Map(location=[latitude, longitude], zoom_start=11)\n",
    "\n",
    "# add markers to the map\n",
    "markers_colors = []\n",
    "for lat, lon, poi, cluster in zip(EWSubwayLoc_Green['Latitude'], EWSubwayLoc_Green['Longitude'], EWSubwayLoc_Green['Station'], EWSubwayLoc_Green['LineName']):\n",
    "    label = folium.Popup(str(poi) + ' Cluster, ' + str(cluster) + ' line', parse_html=True)\n",
    "    folium.CircleMarker(\n",
    "        [lat, lon],\n",
    "        radius=3,\n",
    "        popup=label,\n",
    "        color='green',\n",
    "        fill=True,\n",
    "        fill_opacity=0.7).add_to(map_clusters)\n",
    "\n",
    "for lat, lon, poi, cluster in zip(EWSubwayLoc_Red['Latitude'], EWSubwayLoc_Red['Longitude'], EWSubwayLoc_Red['Station'], EWSubwayLoc_Red['LineName']):\n",
    "    label = folium.Popup(str(poi) + ' Cluster, ' + str(cluster) + ' line', parse_html=True)\n",
    "    folium.CircleMarker(\n",
    "        [lat, lon],\n",
    "        radius=3,\n",
    "        popup=label,\n",
    "        color='red',\n",
    "        fill=True,\n",
    "        fill_opacity=0.7).add_to(map_clusters)\n",
    "    \n",
    "map_clusters"
   ]
  },
  {
   "cell_type": "markdown",
   "metadata": {},
   "source": [
    "- Map shows the location of Singapore's East/West (Green) and North/South (Red) lines"
   ]
  },
  {
   "cell_type": "markdown",
   "metadata": {},
   "source": [
    "### >>> Strategy Approach: Target towns with the highest population densities"
   ]
  },
  {
   "cell_type": "code",
   "execution_count": 14,
   "metadata": {},
   "outputs": [
    {
     "name": "stdout",
     "output_type": "stream",
     "text": [
      "\n",
      "\n",
      "Total number of towns in Singapore:  49\n",
      "\n",
      "\n"
     ]
    },
    {
     "data": {
      "text/html": [
       "<div>\n",
       "<style scoped>\n",
       "    .dataframe tbody tr th:only-of-type {\n",
       "        vertical-align: middle;\n",
       "    }\n",
       "\n",
       "    .dataframe tbody tr th {\n",
       "        vertical-align: top;\n",
       "    }\n",
       "\n",
       "    .dataframe thead th {\n",
       "        text-align: right;\n",
       "    }\n",
       "</style>\n",
       "<table border=\"1\" class=\"dataframe\">\n",
       "  <thead>\n",
       "    <tr style=\"text-align: right;\">\n",
       "      <th></th>\n",
       "      <th>PlanningArea</th>\n",
       "      <th>Total_Singapore_Residents</th>\n",
       "    </tr>\n",
       "  </thead>\n",
       "  <tbody>\n",
       "    <tr>\n",
       "      <th>0</th>\n",
       "      <td>Ang Mo Kio</td>\n",
       "      <td>165710</td>\n",
       "    </tr>\n",
       "    <tr>\n",
       "      <th>1</th>\n",
       "      <td>Bedok</td>\n",
       "      <td>281300</td>\n",
       "    </tr>\n",
       "    <tr>\n",
       "      <th>2</th>\n",
       "      <td>Bishan</td>\n",
       "      <td>88490</td>\n",
       "    </tr>\n",
       "    <tr>\n",
       "      <th>3</th>\n",
       "      <td>Boon Lay</td>\n",
       "      <td>30</td>\n",
       "    </tr>\n",
       "    <tr>\n",
       "      <th>4</th>\n",
       "      <td>Bukit Batok</td>\n",
       "      <td>144410</td>\n",
       "    </tr>\n",
       "    <tr>\n",
       "      <th>5</th>\n",
       "      <td>Bukit Merah</td>\n",
       "      <td>151870</td>\n",
       "    </tr>\n",
       "    <tr>\n",
       "      <th>6</th>\n",
       "      <td>Bukit Panjang</td>\n",
       "      <td>140820</td>\n",
       "    </tr>\n",
       "    <tr>\n",
       "      <th>7</th>\n",
       "      <td>Bukit Timah</td>\n",
       "      <td>77280</td>\n",
       "    </tr>\n",
       "    <tr>\n",
       "      <th>8</th>\n",
       "      <td>Changi</td>\n",
       "      <td>2080</td>\n",
       "    </tr>\n",
       "    <tr>\n",
       "      <th>9</th>\n",
       "      <td>Choa Chu Kang</td>\n",
       "      <td>187510</td>\n",
       "    </tr>\n",
       "  </tbody>\n",
       "</table>\n",
       "</div>"
      ],
      "text/plain": [
       "    PlanningArea  Total_Singapore_Residents\n",
       "0     Ang Mo Kio                     165710\n",
       "1          Bedok                     281300\n",
       "2         Bishan                      88490\n",
       "3       Boon Lay                         30\n",
       "4    Bukit Batok                     144410\n",
       "5    Bukit Merah                     151870\n",
       "6  Bukit Panjang                     140820\n",
       "7    Bukit Timah                      77280\n",
       "8         Changi                       2080\n",
       "9  Choa Chu Kang                     187510"
      ]
     },
     "execution_count": 14,
     "metadata": {},
     "output_type": "execute_result"
    }
   ],
   "source": [
    "print(\"\\n\")\n",
    "print(\"Total number of towns in Singapore: \", TownPop['PlanningArea'].count())\n",
    "print(\"\\n\")\n",
    "TownPop.head(10)"
   ]
  },
  {
   "cell_type": "markdown",
   "metadata": {},
   "source": [
    "- Data shows the population by town (i.e. Planning Area) across the country"
   ]
  },
  {
   "cell_type": "markdown",
   "metadata": {},
   "source": [
    "### >>> Mapping town population data to subway locations to identify which subways serve the largest population"
   ]
  },
  {
   "cell_type": "code",
   "execution_count": 15,
   "metadata": {},
   "outputs": [],
   "source": [
    "EWSubwayLoc.rename(columns = {\"PlanningZone\":\"PlanningArea\"}, inplace = True)"
   ]
  },
  {
   "cell_type": "code",
   "execution_count": 16,
   "metadata": {},
   "outputs": [],
   "source": [
    "Subway2 = pd.merge(EWSubwayLoc, TownPop, how='left', on=['PlanningArea'])"
   ]
  },
  {
   "cell_type": "code",
   "execution_count": 17,
   "metadata": {},
   "outputs": [],
   "source": [
    "SubwayPerTown = Subway2.groupby('PlanningArea').agg({\"Station\": 'count', \"Total_Singapore_Residents\": 'mean'})\n",
    "SubwayPerTown.sort_values(['Total_Singapore_Residents'], ascending=False, inplace=True)"
   ]
  },
  {
   "cell_type": "code",
   "execution_count": 18,
   "metadata": {},
   "outputs": [
    {
     "name": "stdout",
     "output_type": "stream",
     "text": [
      "Population per Town\n"
     ]
    },
    {
     "data": {
      "image/png": "[encoded data removed]",
      "text/plain": [
       "<Figure size 1008x288 with 1 Axes>"
      ]
     },
     "metadata": {
      "needs_background": "light"
     },
     "output_type": "display_data"
    }
   ],
   "source": [
    "print(\"Population per Town\")\n",
    "ax1 = SubwayPerTown.plot(kind='bar',\n",
    "                    #x=Index,\n",
    "                    y='Total_Singapore_Residents',\n",
    "                    figsize=(14, 4),\n",
    "                    alpha=0.5,                  \n",
    "                    color='Gray')"
   ]
  },
  {
   "cell_type": "code",
   "execution_count": 19,
   "metadata": {},
   "outputs": [
    {
     "name": "stdout",
     "output_type": "stream",
     "text": [
      "Number of Stations per Town\n"
     ]
    },
    {
     "data": {
      "image/png": "[encoded data removed]",
      "text/plain": [
       "<Figure size 1008x288 with 1 Axes>"
      ]
     },
     "metadata": {
      "needs_background": "light"
     },
     "output_type": "display_data"
    }
   ],
   "source": [
    "print(\"Number of Stations per Town\")\n",
    "ax0 = SubwayPerTown.plot(kind='bar',\n",
    "                    y='Station',\n",
    "                    figsize=(14, 4),\n",
    "                    alpha=0.5,                  \n",
    "                    color='Orange')"
   ]
  },
  {
   "cell_type": "markdown",
   "metadata": {},
   "source": [
    "- One town can be served by multiple subway stations\n",
    "- Prioritization of preferred locations to setup the cafe would be based on population size; i.e. potential customer pool\n",
    "- Bedok, Tampines, Woodlands and Yishun have the higest population density and would be ideal starting points to explore if the subway stations there would be good locations for the cafe"
   ]
  },
  {
   "cell_type": "markdown",
   "metadata": {},
   "source": [
    "### >>> Strategy Approach: Profile the location of each subway station to map out potential competition and if the presense of other eateries and points of interest could be an indication of high traffic "
   ]
  },
  {
   "cell_type": "markdown",
   "metadata": {},
   "source": [
    "### >>> Using Foursqare to extract nearby venues"
   ]
  },
  {
   "cell_type": "code",
   "execution_count": 26,
   "metadata": {},
   "outputs": [],
   "source": [
    "def getNearbyVenues(names, latitudes, longitudes, radius=500):\n",
    "    \n",
    "    venues_list=[]\n",
    "    for name, lat, lng in zip(names, latitudes, longitudes):\n",
    "        print(name)\n",
    "            \n",
    "        # create the API request URL\n",
    "        url = 'https://api.foursquare.com/v2/venues/explore?&client_id={}&client_secret={}&v={}&ll={},{}&radius={}&limit={}'.format(\n",
    "            CLIENT_ID, \n",
    "            CLIENT_SECRET, \n",
    "            VERSION, \n",
    "            lat, \n",
    "            lng, \n",
    "            radius, \n",
    "            LIMIT)\n",
    "            \n",
    "        # make the GET request\n",
    "        results = requests.get(url).json()[\"response\"]['groups'][0]['items']\n",
    "        \n",
    "        # return only relevant information for each nearby venue\n",
    "        venues_list.append([(\n",
    "            name, \n",
    "            lat, \n",
    "            lng, \n",
    "            v['venue']['name'], \n",
    "            v['venue']['location']['lat'], \n",
    "            v['venue']['location']['lng'],  \n",
    "            v['venue']['categories'][0]['name']) for v in results])\n",
    "\n",
    "    nearby_venues = pd.DataFrame([item for venue_list in venues_list for item in venue_list])\n",
    "    nearby_venues.columns = ['Station', \n",
    "                  'Postcode Latitude', \n",
    "                  'Postcode Longitude', \n",
    "                  'Venue', \n",
    "                  'Venue Latitude', \n",
    "                  'Venue Longitude', \n",
    "                  'Venue Category']\n",
    "    \n",
    "    return(nearby_venues)"
   ]
  },
  {
   "cell_type": "code",
   "execution_count": 27,
   "metadata": {},
   "outputs": [
    {
     "name": "stdout",
     "output_type": "stream",
     "text": [
      "Pasir Ris\n",
      "Tampines\n",
      "Simei\n",
      "Tanah Merah\n",
      "Bedok\n",
      "Kembangan \n",
      "Eunos\n",
      "Paya Lebar\n",
      "Aljunied\n",
      "Kallang \n",
      "Lavender \n",
      "Bugis \n",
      "City Hall\n",
      "Raffles Place\n",
      "Tanjong Pagar\n",
      "Outram Park\n",
      "Tiong Bahru\n",
      "Redhill \n",
      "Queenstown \n",
      "Commonwealth\n",
      "Buona Vista\n",
      "Dover\n",
      "Clementi\n",
      "Jurong East\n",
      "Chinese Garden\n",
      "Lakeside \n",
      "Boon Lay\n",
      "Pioneer\n",
      "Joo Koon\n",
      "Gul Circle\n",
      "Tuas Crescent\n",
      "Tuas West Road\n",
      "Tuas Link\n",
      "Bukit Batok\n",
      "Bukit Gombak\n",
      "Choa Chu Kang\n",
      "Yew Tee\n",
      "Kranji\n",
      "Marsiling\n",
      "Woodlands\n",
      "Admiralty\n",
      "Sembawang\n",
      "Yishun \n",
      "Khatib\n",
      "Yio Chu Kang\n",
      "Ang Mo Kio\n",
      "Bishan\n",
      "Braddell\n",
      "Toa Payoh\n",
      "Novena\n",
      "Newton\n",
      "Orchard\n",
      "Somerset\n",
      "Dhoby Ghaut\n",
      "Marina Bay\n",
      "Marina South Pier\n"
     ]
    }
   ],
   "source": [
    "LIMIT = 100\n",
    "subway_venues = getNearbyVenues(names=EWSubwayLoc['Station'],\n",
    "                                   latitudes=EWSubwayLoc['Latitude'],\n",
    "                                   longitudes=EWSubwayLoc['Longitude']\n",
    "                                  )"
   ]
  },
  {
   "cell_type": "code",
   "execution_count": 84,
   "metadata": {},
   "outputs": [
    {
     "name": "stdout",
     "output_type": "stream",
     "text": [
      "There are 238 uniques categories.\n"
     ]
    }
   ],
   "source": [
    "print('There are {} uniques categories.'.format(len(subway_venues['Venue Category'].unique())))"
   ]
  },
  {
   "cell_type": "markdown",
   "metadata": {},
   "source": [
    "### >>> Ranking of top venues by Station and doing a count "
   ]
  },
  {
   "cell_type": "code",
   "execution_count": 85,
   "metadata": {},
   "outputs": [],
   "source": [
    "# ONE HOT ENCODING\n",
    "subway_onehot = pd.get_dummies(subway_venues[['Venue Category']], prefix=\"\", prefix_sep=\"\")\n",
    "\n",
    "# add neighborhood column back to dataframe\n",
    "subway_onehot['Station'] = subway_venues['Station'] \n",
    "\n",
    "# move neighborhood column to the first column\n",
    "fixed_columns = [subway_onehot.columns[-1]] + list(subway_onehot.columns[:-1])\n",
    "subway_onehot = subway_onehot[fixed_columns]"
   ]
  },
  {
   "cell_type": "code",
   "execution_count": 86,
   "metadata": {},
   "outputs": [],
   "source": [
    "subway_grouped = subway_onehot.groupby('Station').mean().reset_index()"
   ]
  },
  {
   "cell_type": "code",
   "execution_count": 87,
   "metadata": {},
   "outputs": [],
   "source": [
    "def return_most_common_venues(row, num_top_venues):\n",
    "    row_categories = row.iloc[1:]\n",
    "    row_categories_sorted = row_categories.sort_values(ascending=False)\n",
    "    \n",
    "    return row_categories_sorted.index.values[0:num_top_venues]"
   ]
  },
  {
   "cell_type": "code",
   "execution_count": 88,
   "metadata": {},
   "outputs": [],
   "source": [
    "# MAP OUT TOP 10 VENUES NEAR EACH STATION \n",
    "\n",
    "num_top_venues = 10\n",
    "indicators = ['st', 'nd', 'rd']\n",
    "\n",
    "# create columns according to number of top venues\n",
    "columns = ['Station']\n",
    "for ind in np.arange(num_top_venues):\n",
    "    try:\n",
    "        columns.append('{}{} Most Common Venue'.format(ind+1, indicators[ind]))\n",
    "    except:\n",
    "        columns.append('{}th Most Common Venue'.format(ind+1))\n",
    "\n",
    "# create a new dataframe\n",
    "neighborhoods_venues_sorted = pd.DataFrame(columns=columns)\n",
    "neighborhoods_venues_sorted['Station'] = subway_grouped['Station']\n",
    "\n",
    "for ind in np.arange(subway_grouped.shape[0]):\n",
    "    neighborhoods_venues_sorted.iloc[ind, 1:] = return_most_common_venues(subway_grouped.iloc[ind, :], num_top_venues)\n",
    "\n",
    "#neighborhoods_venues_sorted.head(5)"
   ]
  },
  {
   "cell_type": "code",
   "execution_count": 89,
   "metadata": {},
   "outputs": [],
   "source": [
    "# COUNT NUMBER OF VENUES PER CATEGORY\n",
    "\n",
    "subway_count = subway_onehot.groupby('Station').sum().reset_index()"
   ]
  },
  {
   "cell_type": "markdown",
   "metadata": {},
   "source": [
    "### >>> Tabulation of all data by station and rank by town population \n",
    "- Focusing on stations in towns with the most residents"
   ]
  },
  {
   "cell_type": "code",
   "execution_count": 127,
   "metadata": {},
   "outputs": [
    {
     "data": {
      "text/html": [
       "<div>\n",
       "<style scoped>\n",
       "    .dataframe tbody tr th:only-of-type {\n",
       "        vertical-align: middle;\n",
       "    }\n",
       "\n",
       "    .dataframe tbody tr th {\n",
       "        vertical-align: top;\n",
       "    }\n",
       "\n",
       "    .dataframe thead th {\n",
       "        text-align: right;\n",
       "    }\n",
       "</style>\n",
       "<table border=\"1\" class=\"dataframe\">\n",
       "  <thead>\n",
       "    <tr style=\"text-align: right;\">\n",
       "      <th></th>\n",
       "      <th>Station</th>\n",
       "      <th>LineName</th>\n",
       "      <th>Latitude</th>\n",
       "      <th>Longitude</th>\n",
       "      <th>PlanningArea</th>\n",
       "      <th>Café</th>\n",
       "      <th>Total_Singapore_Residents</th>\n",
       "      <th>1st Most Common Venue</th>\n",
       "      <th>2nd Most Common Venue</th>\n",
       "      <th>3rd Most Common Venue</th>\n",
       "      <th>4th Most Common Venue</th>\n",
       "      <th>5th Most Common Venue</th>\n",
       "      <th>6th Most Common Venue</th>\n",
       "      <th>7th Most Common Venue</th>\n",
       "      <th>8th Most Common Venue</th>\n",
       "      <th>9th Most Common Venue</th>\n",
       "      <th>10th Most Common Venue</th>\n",
       "    </tr>\n",
       "  </thead>\n",
       "  <tbody>\n",
       "    <tr>\n",
       "      <th>3</th>\n",
       "      <td>Tanah Merah</td>\n",
       "      <td>Green</td>\n",
       "      <td>1.327309</td>\n",
       "      <td>103.946440</td>\n",
       "      <td>Bedok</td>\n",
       "      <td>0</td>\n",
       "      <td>281300.0</td>\n",
       "      <td>Noodle House</td>\n",
       "      <td>Indian Restaurant</td>\n",
       "      <td>Basketball Court</td>\n",
       "      <td>Dim Sum Restaurant</td>\n",
       "      <td>Ice Cream Shop</td>\n",
       "      <td>Resort</td>\n",
       "      <td>Restaurant</td>\n",
       "      <td>Chinese Restaurant</td>\n",
       "      <td>Flower Shop</td>\n",
       "      <td>Food Court</td>\n",
       "    </tr>\n",
       "    <tr>\n",
       "      <th>4</th>\n",
       "      <td>Bedok</td>\n",
       "      <td>Green</td>\n",
       "      <td>1.324060</td>\n",
       "      <td>103.929920</td>\n",
       "      <td>Bedok</td>\n",
       "      <td>2</td>\n",
       "      <td>281300.0</td>\n",
       "      <td>Coffee Shop</td>\n",
       "      <td>Chinese Restaurant</td>\n",
       "      <td>Japanese Restaurant</td>\n",
       "      <td>Food Court</td>\n",
       "      <td>Bakery</td>\n",
       "      <td>Dessert Shop</td>\n",
       "      <td>Fast Food Restaurant</td>\n",
       "      <td>Sandwich Place</td>\n",
       "      <td>Sushi Restaurant</td>\n",
       "      <td>Supermarket</td>\n",
       "    </tr>\n",
       "    <tr>\n",
       "      <th>5</th>\n",
       "      <td>Kembangan</td>\n",
       "      <td>Green</td>\n",
       "      <td>1.320955</td>\n",
       "      <td>103.913040</td>\n",
       "      <td>Bedok</td>\n",
       "      <td>0</td>\n",
       "      <td>281300.0</td>\n",
       "      <td>Chinese Restaurant</td>\n",
       "      <td>Indian Restaurant</td>\n",
       "      <td>Diner</td>\n",
       "      <td>Snack Place</td>\n",
       "      <td>Seafood Restaurant</td>\n",
       "      <td>Supermarket</td>\n",
       "      <td>Noodle House</td>\n",
       "      <td>Coffee Shop</td>\n",
       "      <td>Food Court</td>\n",
       "      <td>Bistro</td>\n",
       "    </tr>\n",
       "    <tr>\n",
       "      <th>2</th>\n",
       "      <td>Simei</td>\n",
       "      <td>Green</td>\n",
       "      <td>1.342814</td>\n",
       "      <td>103.953350</td>\n",
       "      <td>Tampines</td>\n",
       "      <td>1</td>\n",
       "      <td>257110.0</td>\n",
       "      <td>Fast Food Restaurant</td>\n",
       "      <td>Hotpot Restaurant</td>\n",
       "      <td>Bakery</td>\n",
       "      <td>Diner</td>\n",
       "      <td>Coffee Shop</td>\n",
       "      <td>Sandwich Place</td>\n",
       "      <td>Chinese Restaurant</td>\n",
       "      <td>Shopping Mall</td>\n",
       "      <td>Noodle House</td>\n",
       "      <td>Café</td>\n",
       "    </tr>\n",
       "    <tr>\n",
       "      <th>1</th>\n",
       "      <td>Tampines</td>\n",
       "      <td>Green</td>\n",
       "      <td>1.353464</td>\n",
       "      <td>103.944910</td>\n",
       "      <td>Tampines</td>\n",
       "      <td>4</td>\n",
       "      <td>257110.0</td>\n",
       "      <td>Bakery</td>\n",
       "      <td>Coffee Shop</td>\n",
       "      <td>Café</td>\n",
       "      <td>Chinese Restaurant</td>\n",
       "      <td>Bubble Tea Shop</td>\n",
       "      <td>Gym</td>\n",
       "      <td>Shopping Mall</td>\n",
       "      <td>Dessert Shop</td>\n",
       "      <td>Clothing Store</td>\n",
       "      <td>Pharmacy</td>\n",
       "    </tr>\n",
       "    <tr>\n",
       "      <th>39</th>\n",
       "      <td>Woodlands</td>\n",
       "      <td>Red</td>\n",
       "      <td>1.437004</td>\n",
       "      <td>103.786630</td>\n",
       "      <td>Woodlands</td>\n",
       "      <td>3</td>\n",
       "      <td>252530.0</td>\n",
       "      <td>Japanese Restaurant</td>\n",
       "      <td>Café</td>\n",
       "      <td>Asian Restaurant</td>\n",
       "      <td>Clothing Store</td>\n",
       "      <td>Supermarket</td>\n",
       "      <td>Chinese Restaurant</td>\n",
       "      <td>Shopping Mall</td>\n",
       "      <td>Fast Food Restaurant</td>\n",
       "      <td>Food Court</td>\n",
       "      <td>Indian Restaurant</td>\n",
       "    </tr>\n",
       "    <tr>\n",
       "      <th>38</th>\n",
       "      <td>Marsiling</td>\n",
       "      <td>Red</td>\n",
       "      <td>1.432697</td>\n",
       "      <td>103.774129</td>\n",
       "      <td>Woodlands</td>\n",
       "      <td>0</td>\n",
       "      <td>252530.0</td>\n",
       "      <td>Asian Restaurant</td>\n",
       "      <td>Coffee Shop</td>\n",
       "      <td>Train Station</td>\n",
       "      <td>Steakhouse</td>\n",
       "      <td>Bubble Tea Shop</td>\n",
       "      <td>Gym</td>\n",
       "      <td>Music Venue</td>\n",
       "      <td>Pizza Place</td>\n",
       "      <td>Japanese Restaurant</td>\n",
       "      <td>Smoke Shop</td>\n",
       "    </tr>\n",
       "    <tr>\n",
       "      <th>42</th>\n",
       "      <td>Yishun</td>\n",
       "      <td>Red</td>\n",
       "      <td>1.429217</td>\n",
       "      <td>103.835130</td>\n",
       "      <td>Yishun</td>\n",
       "      <td>1</td>\n",
       "      <td>214940.0</td>\n",
       "      <td>Coffee Shop</td>\n",
       "      <td>Food Court</td>\n",
       "      <td>Supermarket</td>\n",
       "      <td>Grocery Store</td>\n",
       "      <td>Fast Food Restaurant</td>\n",
       "      <td>Chinese Restaurant</td>\n",
       "      <td>Shopping Mall</td>\n",
       "      <td>Bistro</td>\n",
       "      <td>Bookstore</td>\n",
       "      <td>Bubble Tea Shop</td>\n",
       "    </tr>\n",
       "    <tr>\n",
       "      <th>35</th>\n",
       "      <td>Choa Chu Kang</td>\n",
       "      <td>Red</td>\n",
       "      <td>1.385410</td>\n",
       "      <td>103.744340</td>\n",
       "      <td>Choa Chu Kang</td>\n",
       "      <td>1</td>\n",
       "      <td>187510.0</td>\n",
       "      <td>Coffee Shop</td>\n",
       "      <td>Fast Food Restaurant</td>\n",
       "      <td>Asian Restaurant</td>\n",
       "      <td>Food Court</td>\n",
       "      <td>Park</td>\n",
       "      <td>Train Station</td>\n",
       "      <td>Shop &amp; Service</td>\n",
       "      <td>Restaurant</td>\n",
       "      <td>Shopping Mall</td>\n",
       "      <td>Bakery</td>\n",
       "    </tr>\n",
       "    <tr>\n",
       "      <th>43</th>\n",
       "      <td>Khatib</td>\n",
       "      <td>Red</td>\n",
       "      <td>1.417505</td>\n",
       "      <td>103.832990</td>\n",
       "      <td>Ang Mo Kio</td>\n",
       "      <td>0</td>\n",
       "      <td>165710.0</td>\n",
       "      <td>Coffee Shop</td>\n",
       "      <td>Fast Food Restaurant</td>\n",
       "      <td>Supermarket</td>\n",
       "      <td>Shopping Mall</td>\n",
       "      <td>American Restaurant</td>\n",
       "      <td>Grocery Store</td>\n",
       "      <td>Department Store</td>\n",
       "      <td>Food Truck</td>\n",
       "      <td>Food Court</td>\n",
       "      <td>Bus Stop</td>\n",
       "    </tr>\n",
       "  </tbody>\n",
       "</table>\n",
       "</div>"
      ],
      "text/plain": [
       "          Station LineName  Latitude   Longitude   PlanningArea  Café  \\\n",
       "3     Tanah Merah    Green  1.327309  103.946440          Bedok     0   \n",
       "4           Bedok    Green  1.324060  103.929920          Bedok     2   \n",
       "5      Kembangan     Green  1.320955  103.913040          Bedok     0   \n",
       "2           Simei    Green  1.342814  103.953350       Tampines     1   \n",
       "1        Tampines    Green  1.353464  103.944910       Tampines     4   \n",
       "39      Woodlands      Red  1.437004  103.786630      Woodlands     3   \n",
       "38      Marsiling      Red  1.432697  103.774129      Woodlands     0   \n",
       "42        Yishun       Red  1.429217  103.835130         Yishun     1   \n",
       "35  Choa Chu Kang      Red  1.385410  103.744340  Choa Chu Kang     1   \n",
       "43         Khatib      Red  1.417505  103.832990     Ang Mo Kio     0   \n",
       "\n",
       "    Total_Singapore_Residents 1st Most Common Venue 2nd Most Common Venue  \\\n",
       "3                    281300.0          Noodle House     Indian Restaurant   \n",
       "4                    281300.0           Coffee Shop    Chinese Restaurant   \n",
       "5                    281300.0    Chinese Restaurant     Indian Restaurant   \n",
       "2                    257110.0  Fast Food Restaurant     Hotpot Restaurant   \n",
       "1                    257110.0                Bakery           Coffee Shop   \n",
       "39                   252530.0   Japanese Restaurant                  Café   \n",
       "38                   252530.0      Asian Restaurant           Coffee Shop   \n",
       "42                   214940.0           Coffee Shop            Food Court   \n",
       "35                   187510.0           Coffee Shop  Fast Food Restaurant   \n",
       "43                   165710.0           Coffee Shop  Fast Food Restaurant   \n",
       "\n",
       "   3rd Most Common Venue 4th Most Common Venue 5th Most Common Venue  \\\n",
       "3       Basketball Court    Dim Sum Restaurant        Ice Cream Shop   \n",
       "4    Japanese Restaurant            Food Court                Bakery   \n",
       "5                  Diner           Snack Place    Seafood Restaurant   \n",
       "2                 Bakery                 Diner           Coffee Shop   \n",
       "1                   Café    Chinese Restaurant       Bubble Tea Shop   \n",
       "39      Asian Restaurant        Clothing Store           Supermarket   \n",
       "38         Train Station            Steakhouse       Bubble Tea Shop   \n",
       "42           Supermarket         Grocery Store  Fast Food Restaurant   \n",
       "35      Asian Restaurant            Food Court                  Park   \n",
       "43           Supermarket         Shopping Mall   American Restaurant   \n",
       "\n",
       "   6th Most Common Venue 7th Most Common Venue 8th Most Common Venue  \\\n",
       "3                 Resort            Restaurant    Chinese Restaurant   \n",
       "4           Dessert Shop  Fast Food Restaurant        Sandwich Place   \n",
       "5            Supermarket          Noodle House           Coffee Shop   \n",
       "2         Sandwich Place    Chinese Restaurant         Shopping Mall   \n",
       "1                    Gym         Shopping Mall          Dessert Shop   \n",
       "39    Chinese Restaurant         Shopping Mall  Fast Food Restaurant   \n",
       "38                   Gym           Music Venue           Pizza Place   \n",
       "42    Chinese Restaurant         Shopping Mall                Bistro   \n",
       "35         Train Station        Shop & Service            Restaurant   \n",
       "43         Grocery Store      Department Store            Food Truck   \n",
       "\n",
       "   9th Most Common Venue 10th Most Common Venue  \n",
       "3            Flower Shop             Food Court  \n",
       "4       Sushi Restaurant            Supermarket  \n",
       "5             Food Court                 Bistro  \n",
       "2           Noodle House                   Café  \n",
       "1         Clothing Store               Pharmacy  \n",
       "39            Food Court      Indian Restaurant  \n",
       "38   Japanese Restaurant             Smoke Shop  \n",
       "42             Bookstore        Bubble Tea Shop  \n",
       "35         Shopping Mall                 Bakery  \n",
       "43            Food Court               Bus Stop  "
      ]
     },
     "execution_count": 127,
     "metadata": {},
     "output_type": "execute_result"
    }
   ],
   "source": [
    "# TABULATE ALL INFO TOGETHER BASED ON STATION\n",
    "# SORT BY TOWN POPULATION\n",
    "\n",
    "subway_grouped = pd.merge(EWSubwayLoc, subway_count[['Station', 'Café']], how='left', on=['Station'])\n",
    "subway_grouped = pd.merge(subway_grouped, TownPop, how='left', on=['PlanningArea'])\n",
    "subway_grouped = pd.merge(subway_grouped, neighborhoods_venues_sorted, how='left', on=['Station'])\n",
    "subway_grouped.sort_values(['Total_Singapore_Residents'], ascending=False, inplace=True)\n",
    "subway_grouped.head(10)"
   ]
  },
  {
   "cell_type": "markdown",
   "metadata": {},
   "source": [
    "----"
   ]
  },
  {
   "cell_type": "code",
   "execution_count": 139,
   "metadata": {},
   "outputs": [
    {
     "data": {
      "text/html": [
       "<div>\n",
       "<style scoped>\n",
       "    .dataframe tbody tr th:only-of-type {\n",
       "        vertical-align: middle;\n",
       "    }\n",
       "\n",
       "    .dataframe tbody tr th {\n",
       "        vertical-align: top;\n",
       "    }\n",
       "\n",
       "    .dataframe thead th {\n",
       "        text-align: right;\n",
       "    }\n",
       "</style>\n",
       "<table border=\"1\" class=\"dataframe\">\n",
       "  <thead>\n",
       "    <tr style=\"text-align: right;\">\n",
       "      <th></th>\n",
       "      <th>Station</th>\n",
       "      <th>LineName</th>\n",
       "      <th>Latitude</th>\n",
       "      <th>Longitude</th>\n",
       "      <th>PlanningArea</th>\n",
       "      <th>Café</th>\n",
       "      <th>Total_Singapore_Residents</th>\n",
       "      <th>1st Most Common Venue</th>\n",
       "      <th>2nd Most Common Venue</th>\n",
       "      <th>3rd Most Common Venue</th>\n",
       "      <th>4th Most Common Venue</th>\n",
       "      <th>5th Most Common Venue</th>\n",
       "      <th>6th Most Common Venue</th>\n",
       "      <th>7th Most Common Venue</th>\n",
       "      <th>8th Most Common Venue</th>\n",
       "      <th>9th Most Common Venue</th>\n",
       "      <th>10th Most Common Venue</th>\n",
       "    </tr>\n",
       "  </thead>\n",
       "  <tbody>\n",
       "    <tr>\n",
       "      <th>3</th>\n",
       "      <td>Tanah Merah</td>\n",
       "      <td>Green</td>\n",
       "      <td>1.327309</td>\n",
       "      <td>103.94644</td>\n",
       "      <td>Bedok</td>\n",
       "      <td>0</td>\n",
       "      <td>281300.0</td>\n",
       "      <td>Noodle House</td>\n",
       "      <td>Indian Restaurant</td>\n",
       "      <td>Basketball Court</td>\n",
       "      <td>Dim Sum Restaurant</td>\n",
       "      <td>Ice Cream Shop</td>\n",
       "      <td>Resort</td>\n",
       "      <td>Restaurant</td>\n",
       "      <td>Chinese Restaurant</td>\n",
       "      <td>Flower Shop</td>\n",
       "      <td>Food Court</td>\n",
       "    </tr>\n",
       "    <tr>\n",
       "      <th>2</th>\n",
       "      <td>Simei</td>\n",
       "      <td>Green</td>\n",
       "      <td>1.342814</td>\n",
       "      <td>103.95335</td>\n",
       "      <td>Tampines</td>\n",
       "      <td>1</td>\n",
       "      <td>257110.0</td>\n",
       "      <td>Fast Food Restaurant</td>\n",
       "      <td>Hotpot Restaurant</td>\n",
       "      <td>Bakery</td>\n",
       "      <td>Diner</td>\n",
       "      <td>Coffee Shop</td>\n",
       "      <td>Sandwich Place</td>\n",
       "      <td>Chinese Restaurant</td>\n",
       "      <td>Shopping Mall</td>\n",
       "      <td>Noodle House</td>\n",
       "      <td>Café</td>\n",
       "    </tr>\n",
       "    <tr>\n",
       "      <th>39</th>\n",
       "      <td>Woodlands</td>\n",
       "      <td>Red</td>\n",
       "      <td>1.437004</td>\n",
       "      <td>103.78663</td>\n",
       "      <td>Woodlands</td>\n",
       "      <td>3</td>\n",
       "      <td>252530.0</td>\n",
       "      <td>Japanese Restaurant</td>\n",
       "      <td>Café</td>\n",
       "      <td>Asian Restaurant</td>\n",
       "      <td>Clothing Store</td>\n",
       "      <td>Supermarket</td>\n",
       "      <td>Chinese Restaurant</td>\n",
       "      <td>Shopping Mall</td>\n",
       "      <td>Fast Food Restaurant</td>\n",
       "      <td>Food Court</td>\n",
       "      <td>Indian Restaurant</td>\n",
       "    </tr>\n",
       "  </tbody>\n",
       "</table>\n",
       "</div>"
      ],
      "text/plain": [
       "        Station LineName  Latitude  Longitude PlanningArea  Café  \\\n",
       "3   Tanah Merah    Green  1.327309  103.94644        Bedok     0   \n",
       "2         Simei    Green  1.342814  103.95335     Tampines     1   \n",
       "39    Woodlands      Red  1.437004  103.78663    Woodlands     3   \n",
       "\n",
       "    Total_Singapore_Residents 1st Most Common Venue 2nd Most Common Venue  \\\n",
       "3                    281300.0          Noodle House     Indian Restaurant   \n",
       "2                    257110.0  Fast Food Restaurant     Hotpot Restaurant   \n",
       "39                   252530.0   Japanese Restaurant                  Café   \n",
       "\n",
       "   3rd Most Common Venue 4th Most Common Venue 5th Most Common Venue  \\\n",
       "3       Basketball Court    Dim Sum Restaurant        Ice Cream Shop   \n",
       "2                 Bakery                 Diner           Coffee Shop   \n",
       "39      Asian Restaurant        Clothing Store           Supermarket   \n",
       "\n",
       "   6th Most Common Venue 7th Most Common Venue 8th Most Common Venue  \\\n",
       "3                 Resort            Restaurant    Chinese Restaurant   \n",
       "2         Sandwich Place    Chinese Restaurant         Shopping Mall   \n",
       "39    Chinese Restaurant         Shopping Mall  Fast Food Restaurant   \n",
       "\n",
       "   9th Most Common Venue 10th Most Common Venue  \n",
       "3            Flower Shop             Food Court  \n",
       "2           Noodle House                   Café  \n",
       "39            Food Court      Indian Restaurant  "
      ]
     },
     "execution_count": 139,
     "metadata": {},
     "output_type": "execute_result"
    }
   ],
   "source": [
    "Finalist = subway_grouped\n",
    "Finalist = subway_grouped.query('Station == \"Tanah Merah\" | Station == \"Simei\" | Station == \"Woodlands\" | Station == \"Yishun\"')\n",
    "Finalist.head(5)"
   ]
  },
  {
   "cell_type": "markdown",
   "metadata": {},
   "source": [
    "# DISCUSSIONS "
   ]
  },
  {
   "cell_type": "markdown",
   "metadata": {},
   "source": [
    "-  The investor's target market is South East Asia.  Based on GDP per Capita, it can be observed that Singapore is the only South East Asian country in the top 20 list\n",
    "-  Similarly Singapore is the top South East Asian country by Population Density\n",
    "\n",
    "- Focus subway lines - East/West and North/South\n",
    "- The top 3 towns by population are Bedok, Tampines and Woodlands \n",
    "- These 3 towns had 3, 2 and 2 number of stations respectively\n",
    "\n",
    "- A count of number of cafes were made for each of the stations in these towns\n",
    "- It was then observable which stations had the fewest cafes within 500 metres and were the preferred location\n",
    "- At Bedok Town, there was however a tie between Tanah Merah and Kembangan Station, as both had 0 cafes\n",
    "- Kembangan was chosen over Tanah Merah, as 9 out of top 10 venue types were eateries implying that the location is likely considered a target location for F&B; At Tanah Merah, only 7 out of the top 10 venues were food & beverage locations;  (i.e. more existing eateries means a more attractive location; a draw to the local population)"
   ]
  },
  {
   "cell_type": "markdown",
   "metadata": {},
   "source": [
    "# CONCLUSIONS"
   ]
  },
  {
   "cell_type": "markdown",
   "metadata": {},
   "source": [
    "Top 3 subway locations to setup a speciality coffee cafe are:\n",
    "- 1) Town: Bedok -> Station: Kembangan (\n",
    "- 2) Town: Tampines -> Station: Simei\n",
    "- 3) Town: Woodlands -> Station: Marsiling\n",
    "\n",
    "Decision driven by total population by town which implies potential target market and the selection of subway based on the descriptive profile of its surroundings (i.e. more existing eateries means a more attractive location; a draw to the local population)"
   ]
  },
  {
   "cell_type": "code",
   "execution_count": 140,
   "metadata": {},
   "outputs": [
    {
     "data": {
      "text/html": [
       "<div style=\"width:100%;\"><div style=\"position:relative;width:100%;height:0;padding-bottom:60%;\"><iframe src=\"data:text/html;charset=utf-8;base64,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\" style=\"position:absolute;width:100%;height:100%;left:0;top:0;border:none !important;\" allowfullscreen webkitallowfullscreen mozallowfullscreen></iframe></div></div>"
      ],
      "text/plain": [
       "<folium.folium.Map at 0x7fdb1280feb8>"
      ]
     },
     "execution_count": 140,
     "metadata": {},
     "output_type": "execute_result"
    }
   ],
   "source": [
    "# create map\n",
    "map_clusters = folium.Map(location=[latitude, longitude], zoom_start=10)\n",
    "\n",
    "for lat, lon, poi, cluster in zip(Finalist['Latitude'], Finalist['Longitude'], Finalist['Station'], Finalist['LineName']):\n",
    "    label = folium.Popup(str(poi) + ' Cluster, ' + str(cluster) + ' line', parse_html=True)\n",
    "    folium.CircleMarker(\n",
    "        [lat, lon],\n",
    "        radius=5,\n",
    "        popup=label,\n",
    "        color='blue',\n",
    "        fill=True,\n",
    "        fill_opacity=0.7).add_to(map_clusters)\n",
    "\n",
    "Finalist.head()\n",
    "map_clusters"
   ]
  },
  {
   "cell_type": "code",
   "execution_count": null,
   "metadata": {},
   "outputs": [],
   "source": []
  }
 ],
 "metadata": {
  "kernelspec": {
   "display_name": "Python 3",
   "language": "python",
   "name": "python3"
  },
  "language_info": {
   "codemirror_mode": {
    "name": "ipython",
    "version": 3
   },
   "file_extension": ".py",
   "mimetype": "text/x-python",
   "name": "python",
   "nbconvert_exporter": "python",
   "pygments_lexer": "ipython3",
   "version": "3.6.6"
  }
 },
 "nbformat": 4,
 "nbformat_minor": 2
}
